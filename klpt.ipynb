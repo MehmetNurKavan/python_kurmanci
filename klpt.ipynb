{
 "cells": [
  {
   "cell_type": "code",
   "execution_count": null,
   "id": "44b4f56b",
   "metadata": {},
   "outputs": [],
   "source": [
    "!pip install klpt"
   ]
  },
  {
   "cell_type": "code",
   "execution_count": null,
   "id": "8a912ff7",
   "metadata": {},
   "outputs": [],
   "source": [
    "import klpt"
   ]
  },
  {
   "cell_type": "code",
   "execution_count": null,
   "id": "b2d0fe63",
   "metadata": {},
   "outputs": [],
   "source": [
    "# 1. Ön işleme (Preprocessing) – Stopword temizleme, normalize etme, vs.\n",
    "from klpt.preprocess import Preprocess\n",
    "\n",
    "text = \"Di sala 2023-an de li Dihokê bûm.\"\n",
    "\n",
    "preprocessor = Preprocess(\"Kurmanji\", \"Latin\")\n",
    "\n",
    "# Normalizasyon (örneğin sayıları düzeltme gibi)\n",
    "normalized = preprocessor.standardize(text)\n",
    "print(\"Standardize:\", normalized)\n",
    "\n",
    "# Stopword temizleme\n",
    "def remove_stopwords(text):\n",
    "    p = Preprocess(\"Kurmanji\", \"Latin\")\n",
    "    return [word for word in text.split() if word not in p.stopwords]\n",
    "\n",
    "filtered = remove_stopwords(text)\n",
    "print(\"Stopwords removed:\", filtered)"
   ]
  },
  {
   "cell_type": "code",
   "execution_count": null,
   "id": "a8bb61b1",
   "metadata": {},
   "outputs": [],
   "source": [
    "# 2. Tokenizasyon (Kelime ayırma – tokenizer)\n",
    "\n",
    "from klpt.tokenize import Tokenize\n",
    "\n",
    "tokenizer = Tokenize(\"Kurmanji\", \"Latin\")\n",
    "tokens = tokenizer.word_tokenize(\"Ji bo fortê xwe avêtin.\")\n",
    "print(\"Word tokens:\", tokens)\n",
    "\n",
    "# Çoklu kelime (multi-word expression) tokenizasyonu\n",
    "mwe_tokens = tokenizer.mwe_tokenize(\"Bi serokê hukûmeta herêma Kurdistanê Prof. Salih re saz kir.\")\n",
    "print(\"MWE tokenized:\", mwe_tokens)"
   ]
  },
  {
   "cell_type": "code",
   "execution_count": null,
   "id": "73c10e6c",
   "metadata": {},
   "outputs": [],
   "source": [
    "# 3. Kök bulma ve morfolojik analiz (Stemming & Lemmatization)\n",
    "from klpt.stem import Stem\n",
    "\n",
    "stemmer = Stem(\"Kurmanji\", \"Latin\")\n",
    "\n",
    "# Morfolojik analiz\n",
    "analysis = stemmer.analyze(\"dibêjim\")\n",
    "print(\"Analyze:\", analysis)\n",
    "\n",
    "# Kök bulma\n",
    "stem = stemmer.stem(\"dixwî\")\n",
    "print(\"Stem:\", stem)\n",
    "\n",
    "# Lemmatizasyon (temel fiil/hâl bulma)\n",
    "lemma = stemmer.lemmatize(\"jimartibûye\")\n",
    "print(\"Lemmatize:\", lemma)"
   ]
  }
 ],
 "metadata": {
  "kernelspec": {
   "display_name": "base",
   "language": "python",
   "name": "python3"
  },
  "language_info": {
   "codemirror_mode": {
    "name": "ipython",
    "version": 3
   },
   "file_extension": ".py",
   "mimetype": "text/x-python",
   "name": "python",
   "nbconvert_exporter": "python",
   "pygments_lexer": "ipython3",
   "version": "3.10.15"
  }
 },
 "nbformat": 4,
 "nbformat_minor": 5
}
